{
 "cells": [
  {
   "cell_type": "markdown",
   "metadata": {},
   "source": [
    "# DATA473 Assignment 1\n",
    "### Ashton Moore, 17891307, Fletcher Frater, 69309778"
   ]
  },
  {
   "cell_type": "markdown",
   "metadata": {},
   "source": [
    "## 1"
   ]
  },
  {
   "cell_type": "markdown",
   "metadata": {},
   "source": [
    "## 2"
   ]
  },
  {
   "cell_type": "markdown",
   "metadata": {},
   "source": [
    "## 3\n",
    "$$f(w_1, w_2) = 1.25 (w_1 + 6)^2 + (w_2 - 8)^2$$\n",
    "### a)\n",
    "To compute $\\nabla f$ we form a vector where the $i^\\text{th}$ component of the vector is the derivative of $f$ with respect to the $i^\\text{th}$ variable: \n",
    "    $$\\nabla f(w_1, w_2) = \\begin{pmatrix} 2.5 w_1 + 15 \\\\ 2 w_2 - 16 \\end{pmatrix}.$$\n",
    "\n",
    "### b)\n",
    "To compute the Hessian for $f$ we just fill a matrix with all the second derivatives of $f$:\n",
    "    $$\\frac{\\partial^2 f}{\\partial w^i \\partial w^j} = \\begin{pmatrix} 2.5 & 0 \\\\ 0 & 2 \\end{pmatrix}.$$"
   ]
  },
  {
   "cell_type": "markdown",
   "metadata": {},
   "source": [
    "## 4"
   ]
  },
  {
   "cell_type": "code",
   "execution_count": null,
   "metadata": {},
   "outputs": [],
   "source": []
  }
 ],
 "metadata": {
  "kernelspec": {
   "display_name": "Python 3",
   "language": "python",
   "name": "python3"
  },
  "language_info": {
   "codemirror_mode": {
    "name": "ipython",
    "version": 3
   },
   "file_extension": ".py",
   "mimetype": "text/x-python",
   "name": "python",
   "nbconvert_exporter": "python",
   "pygments_lexer": "ipython3",
   "version": "3.7.4"
  }
 },
 "nbformat": 4,
 "nbformat_minor": 4
}
